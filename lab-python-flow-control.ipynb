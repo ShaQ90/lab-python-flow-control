{
 "cells": [
  {
   "cell_type": "markdown",
   "id": "d3bfc191-8885-42ee-b0a0-bbab867c6f9f",
   "metadata": {
    "tags": []
   },
   "source": [
    "# Lab | Flow Control"
   ]
  },
  {
   "cell_type": "markdown",
   "id": "3851fcd1-cf98-4653-9c89-e003b7ec9400",
   "metadata": {},
   "source": [
    "## Exercise: Managing Customer Orders Optimized\n",
    "\n",
    "In the last lab, you were starting an online store that sells various products. To ensure smooth operations, you developed a program that manages customer orders and inventory.\n",
    "\n",
    "You did so without using flow control. Let's go a step further and improve this code.\n",
    "\n",
    "Follow the steps below to complete the exercise:\n",
    "\n",
    "1. Look at your code from the lab data structures, and improve repeated code with loops.\n",
    "\n",
    "2. Instead of asking the user to input the name of three products that a customer wants to order, do the following:\n",
    "    \n",
    "    a. Prompt the user to enter the name of a product that a customer wants to order.\n",
    "    \n",
    "    b. Add the product name to the \"customer_orders\" set.\n",
    "    \n",
    "    c. Ask the user if they want to add another product (yes/no).\n",
    "    \n",
    "    d. Continue the loop until the user does not want to add another product.\n",
    "\n",
    "3. Instead of updating the inventory by subtracting 1 from the quantity of each product, only do it for  the products that were ordered (those in \"customer_orders\")."
   ]
  },
  {
   "cell_type": "code",
   "execution_count": 41,
   "id": "507f3b43-d36b-4c5e-9596-f9753486cccf",
   "metadata": {},
   "outputs": [
    {
     "name": "stdout",
     "output_type": "stream",
     "text": [
      "How many t-shirts do you want?\n"
     ]
    },
    {
     "name": "stdin",
     "output_type": "stream",
     "text": [
      " 10\n"
     ]
    },
    {
     "name": "stdout",
     "output_type": "stream",
     "text": [
      "How many mugs do you want?\n"
     ]
    },
    {
     "name": "stdin",
     "output_type": "stream",
     "text": [
      " 15\n"
     ]
    },
    {
     "name": "stdout",
     "output_type": "stream",
     "text": [
      "How many hats do you want?\n"
     ]
    },
    {
     "name": "stdin",
     "output_type": "stream",
     "text": [
      " 20\n"
     ]
    },
    {
     "name": "stdout",
     "output_type": "stream",
     "text": [
      "How many books do you want?\n"
     ]
    },
    {
     "name": "stdin",
     "output_type": "stream",
     "text": [
      " 25\n"
     ]
    },
    {
     "name": "stdout",
     "output_type": "stream",
     "text": [
      "How many keychains do you want?\n"
     ]
    },
    {
     "name": "stdin",
     "output_type": "stream",
     "text": [
      " 30\n"
     ]
    },
    {
     "name": "stdout",
     "output_type": "stream",
     "text": [
      "Order Statistics:\n",
      "Total Products Ordered: 100 \n",
      "Percentage of Products Ordered: 25.0 %\n",
      "['t-shirt', 'mug', 'hat', 'book', 'keychain']\n"
     ]
    },
    {
     "name": "stdin",
     "output_type": "stream",
     "text": [
      "Please choose the product you want to order: hat\n",
      "Do you want to order more products (yes/no) no\n"
     ]
    },
    {
     "name": "stdout",
     "output_type": "stream",
     "text": [
      "The number of t-shirt in inventory is 10\n",
      "The number of mug in inventory is 15\n",
      "The number of hat in inventory is 19\n",
      "The number of book in inventory is 25\n",
      "The number of keychain in inventory is 30\n"
     ]
    }
   ],
   "source": [
    "#1\n",
    "products = [\"t-shirt\", \"mug\", \"hat\", \"book\", \"keychain\"]\n",
    "inventory = {}\n",
    "\n",
    "for item in products:\n",
    "    \n",
    "    quantity = \"\"\n",
    "    while not quantity.isdigit():\n",
    "        print(\"How many\",item+\"s\",\"do you want?\");\n",
    "        quantity = input()\n",
    "    inventory[item] = int(quantity)   \n",
    "    quantity = \"\"   \n",
    "\n",
    "\n",
    "\n",
    "\n",
    "total = 0\n",
    "numbitems = 0\n",
    "numib= 0 #number of item bought\n",
    "for x in inventory:\n",
    "    total += int(inventory[x])\n",
    "    for y in customer_orders:\n",
    "        if y == x:\n",
    "            numib += int(inventory[x])\n",
    "    numbitems += 1\n",
    "\n",
    "order_status = (total, (numib*100/total))\n",
    "\n",
    "print(\"Order Statistics:\\nTotal Products Ordered:\",order_status[0],\n",
    "      \"\\nPercentage of Products Ordered:\",order_status[1],\"%\")\n",
    "\n",
    "\n",
    "# 2\n",
    "customer_orders = []\n",
    "neworder= True\n",
    "\n",
    "while neworder == True:\n",
    "    print(products)\n",
    "    customer_orders.append( input(\"Please choose the product you want to order:\"))\n",
    "    answer = input(\"Do you want to order more products (yes/no)\")\n",
    "    if answer.lower() == \"no\":\n",
    "        neworder = False\n",
    "\n",
    "for item in inventory:\n",
    "    for item_ord in customer_orders:\n",
    "        if item == item_ord:\n",
    "            inventory[item] -=1\n",
    "\n",
    "\n",
    "for x in inventory:\n",
    "    print(\"The number of\",x,\"in inventory is\", inventory[x])\n",
    "    \n"
   ]
  },
  {
   "cell_type": "code",
   "execution_count": 20,
   "id": "e39aaf04-2f4d-4daa-8f7c-c0c23fac7cf1",
   "metadata": {},
   "outputs": [
    {
     "data": {
      "text/plain": [
       "['hat', 'key']"
      ]
     },
     "execution_count": 20,
     "metadata": {},
     "output_type": "execute_result"
    }
   ],
   "source": [
    "customer_orders"
   ]
  },
  {
   "cell_type": "code",
   "execution_count": null,
   "id": "86b5324b-ddc6-43d4-888c-c83ff1ca984f",
   "metadata": {},
   "outputs": [],
   "source": []
  }
 ],
 "metadata": {
  "kernelspec": {
   "display_name": "Python 3 (ipykernel)",
   "language": "python",
   "name": "python3"
  },
  "language_info": {
   "codemirror_mode": {
    "name": "ipython",
    "version": 3
   },
   "file_extension": ".py",
   "mimetype": "text/x-python",
   "name": "python",
   "nbconvert_exporter": "python",
   "pygments_lexer": "ipython3",
   "version": "3.12.4"
  }
 },
 "nbformat": 4,
 "nbformat_minor": 5
}
